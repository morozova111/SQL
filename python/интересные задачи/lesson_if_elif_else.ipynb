{
 "cells": [
  {
   "cell_type": "code",
   "execution_count": null,
   "id": "00e7abcc",
   "metadata": {},
   "outputs": [],
   "source": [
    "Считайте 1 строку. Она содержит строку с названием типа последующих данных. Возможны 3 типа:\n",
    "\n",
    "    int\n",
    "    str\n",
    "    list\n",
    "\n",
    "В случае получения другого типа выведите на печать строку \"Unknown type\".\n",
    "\n",
    "\n",
    "Если получен тип 'int':\n",
    "\n",
    "Считайте ещё 2 строки. Каждая будет содержать целое число.\n",
    "\n",
    "    Если оба числа равны 0, выведите на печать строку \"Empty Ints\"\n",
    "    Иначе выведите на печать сумму этих чисел\n",
    "\n",
    "\n",
    "Если получен тип 'str':\n",
    "\n",
    "Считайте ещё 1 строку.\n",
    "\n",
    "    Если строка пустая, выведите на печать строку \"Empty String\"\n",
    "    Иначе напечатайте эту строку\n",
    "\n",
    "\n",
    "Если получен тип 'list':\n",
    "\n",
    "Считайте 1 строку и разрежьте её на элементы с помощью split().\n",
    "\n",
    "    Если получившийся список пустой, выведите на печать строку \"Empty List\"\n",
    "    Иначе выведите на печать последний элемент списка. Примечание, используйте отрицательный индекс."
   ]
  },
  {
   "cell_type": "code",
   "execution_count": null,
   "id": "546d4ac5",
   "metadata": {},
   "outputs": [],
   "source": [
    "put = input()\n",
    "\n",
    "\n",
    "if put not in('int', 'str','list'):\n",
    "    print('Unknown type')\n",
    "elif put == 'int':\n",
    "    a = int(input())\n",
    "    b = int(input())\n",
    "    if a == 0 and b == 0:\n",
    "        print('Empty Ints')\n",
    "    else:\n",
    "        print(a+b)\n",
    "                \n",
    "elif put == 'str':\n",
    "    st = input()\n",
    "    x = len(st)\n",
    "    if x == 0:\n",
    "        print('Empty String')\n",
    "    else:\n",
    "        print(st)\n",
    "            \n",
    "elif put == 'list':\n",
    "    li = input().split()\n",
    "    if len(li) == 0:\n",
    "        print('Empty List')\n",
    "    else:\n",
    "        print(li[-1])\n",
    "        "
   ]
  }
 ],
 "metadata": {
  "kernelspec": {
   "display_name": "Python 3 (ipykernel)",
   "language": "python",
   "name": "python3"
  },
  "language_info": {
   "codemirror_mode": {
    "name": "ipython",
    "version": 3
   },
   "file_extension": ".py",
   "mimetype": "text/x-python",
   "name": "python",
   "nbconvert_exporter": "python",
   "pygments_lexer": "ipython3",
   "version": "3.9.12"
  }
 },
 "nbformat": 4,
 "nbformat_minor": 5
}
